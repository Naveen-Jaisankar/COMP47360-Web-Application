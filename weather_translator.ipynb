{
 "cells": [
  {
   "cell_type": "markdown",
   "metadata": {},
   "source": [
    "# Wunderground Weather Condition to Weather Code Translator\n",
    "\n",
    "Full document available from *\"The Weather Company\"*:\n",
    "\n",
    "https://docs.google.com/document/d/1qpc4QN3YDpGDGGNYVINh7tfeulcZ4fxPSC5f4KzpR_U/edit"
   ]
  },
  {
   "cell_type": "markdown",
   "metadata": {},
   "source": [
    "## Prerequisites\n",
    "\n",
    "Import all required packages."
   ]
  },
  {
   "cell_type": "code",
   "execution_count": 1,
   "metadata": {},
   "outputs": [],
   "source": [
    "# Import required packages.\n",
    "\n",
    "# Import pandas for data analysis.\n",
    "import pandas as pd\n",
    "\n",
    "# Import datetime for use with the \"datetime\" feature.\n",
    "import datetime as dt\n",
    "\n",
    "# Import numpy for numeric computing.\n",
    "import numpy as np\n"
   ]
  },
  {
   "cell_type": "markdown",
   "metadata": {},
   "source": [
    "Read the .csv file to be edited."
   ]
  },
  {
   "cell_type": "code",
   "execution_count": 2,
   "metadata": {},
   "outputs": [],
   "source": [
    "# Read the Wunderground .csv file.\n",
    "df = pd.read_csv(\"historical_weather_data.csv\", keep_default_na = True, delimiter = \",\", skipinitialspace = True, encoding = \"Windows-1252\")\n",
    "\n",
    "# Write to file using default UTF-8 encoding.\n",
    "df.to_csv(\"historical_weather_data.csv\", index = False)"
   ]
  },
  {
   "cell_type": "markdown",
   "metadata": {},
   "source": [
    "## Brief Data Quality Report\n",
    "\n",
    "Ensure that the file has read correctly and presents as expected. Perform basic sanity checking, and finally check for any missing columns."
   ]
  },
  {
   "cell_type": "code",
   "execution_count": 3,
   "metadata": {},
   "outputs": [
    {
     "data": {
      "text/plain": [
       "(13110, 11)"
      ]
     },
     "execution_count": 3,
     "metadata": {},
     "output_type": "execute_result"
    }
   ],
   "source": [
    "# Check how many rows and columns the dataset has.\n",
    "df.shape"
   ]
  },
  {
   "cell_type": "code",
   "execution_count": 4,
   "metadata": {},
   "outputs": [
    {
     "data": {
      "text/html": [
       "<div>\n",
       "<style scoped>\n",
       "    .dataframe tbody tr th:only-of-type {\n",
       "        vertical-align: middle;\n",
       "    }\n",
       "\n",
       "    .dataframe tbody tr th {\n",
       "        vertical-align: top;\n",
       "    }\n",
       "\n",
       "    .dataframe thead th {\n",
       "        text-align: right;\n",
       "    }\n",
       "</style>\n",
       "<table border=\"1\" class=\"dataframe\">\n",
       "  <thead>\n",
       "    <tr style=\"text-align: right;\">\n",
       "      <th></th>\n",
       "      <th>timestamp</th>\n",
       "      <th>temperature_f</th>\n",
       "      <th>dew_point_f</th>\n",
       "      <th>humidity_%</th>\n",
       "      <th>wind</th>\n",
       "      <th>wind_speed_mph</th>\n",
       "      <th>wind_gust_mph</th>\n",
       "      <th>pressure_in</th>\n",
       "      <th>precip_in</th>\n",
       "      <th>weather_condition</th>\n",
       "      <th>datetime</th>\n",
       "    </tr>\n",
       "  </thead>\n",
       "  <tbody>\n",
       "    <tr>\n",
       "      <th>0</th>\n",
       "      <td>1676508660</td>\n",
       "      <td>56</td>\n",
       "      <td>50</td>\n",
       "      <td>80</td>\n",
       "      <td>S</td>\n",
       "      <td>3</td>\n",
       "      <td>0</td>\n",
       "      <td>29.79</td>\n",
       "      <td>0.0</td>\n",
       "      <td>Cloudy</td>\n",
       "      <td>2023-02-16 00:51:00</td>\n",
       "    </tr>\n",
       "    <tr>\n",
       "      <th>1</th>\n",
       "      <td>1676512260</td>\n",
       "      <td>61</td>\n",
       "      <td>39</td>\n",
       "      <td>44</td>\n",
       "      <td>SW</td>\n",
       "      <td>16</td>\n",
       "      <td>24</td>\n",
       "      <td>29.91</td>\n",
       "      <td>0.0</td>\n",
       "      <td>Partly Cloudy</td>\n",
       "      <td>2023-02-16 01:51:00</td>\n",
       "    </tr>\n",
       "    <tr>\n",
       "      <th>2</th>\n",
       "      <td>1676515860</td>\n",
       "      <td>61</td>\n",
       "      <td>39</td>\n",
       "      <td>44</td>\n",
       "      <td>WSW</td>\n",
       "      <td>16</td>\n",
       "      <td>23</td>\n",
       "      <td>29.93</td>\n",
       "      <td>0.0</td>\n",
       "      <td>Mostly Cloudy</td>\n",
       "      <td>2023-02-16 02:51:00</td>\n",
       "    </tr>\n",
       "    <tr>\n",
       "      <th>3</th>\n",
       "      <td>1676519460</td>\n",
       "      <td>60</td>\n",
       "      <td>38</td>\n",
       "      <td>44</td>\n",
       "      <td>WSW</td>\n",
       "      <td>15</td>\n",
       "      <td>0</td>\n",
       "      <td>29.93</td>\n",
       "      <td>0.0</td>\n",
       "      <td>Mostly Cloudy</td>\n",
       "      <td>2023-02-16 03:51:00</td>\n",
       "    </tr>\n",
       "    <tr>\n",
       "      <th>4</th>\n",
       "      <td>1676523060</td>\n",
       "      <td>60</td>\n",
       "      <td>38</td>\n",
       "      <td>44</td>\n",
       "      <td>SW</td>\n",
       "      <td>13</td>\n",
       "      <td>0</td>\n",
       "      <td>29.94</td>\n",
       "      <td>0.0</td>\n",
       "      <td>Mostly Cloudy</td>\n",
       "      <td>2023-02-16 04:51:00</td>\n",
       "    </tr>\n",
       "  </tbody>\n",
       "</table>\n",
       "</div>"
      ],
      "text/plain": [
       "    timestamp  temperature_f  dew_point_f  humidity_% wind  wind_speed_mph  \\\n",
       "0  1676508660             56           50          80    S               3   \n",
       "1  1676512260             61           39          44   SW              16   \n",
       "2  1676515860             61           39          44  WSW              16   \n",
       "3  1676519460             60           38          44  WSW              15   \n",
       "4  1676523060             60           38          44   SW              13   \n",
       "\n",
       "   wind_gust_mph  pressure_in  precip_in weather_condition  \\\n",
       "0              0        29.79        0.0            Cloudy   \n",
       "1             24        29.91        0.0     Partly Cloudy   \n",
       "2             23        29.93        0.0     Mostly Cloudy   \n",
       "3              0        29.93        0.0     Mostly Cloudy   \n",
       "4              0        29.94        0.0     Mostly Cloudy   \n",
       "\n",
       "              datetime  \n",
       "0  2023-02-16 00:51:00  \n",
       "1  2023-02-16 01:51:00  \n",
       "2  2023-02-16 02:51:00  \n",
       "3  2023-02-16 03:51:00  \n",
       "4  2023-02-16 04:51:00  "
      ]
     },
     "execution_count": 4,
     "metadata": {},
     "output_type": "execute_result"
    }
   ],
   "source": [
    "# Print the first five rows.\n",
    "df.head(5)"
   ]
  },
  {
   "cell_type": "code",
   "execution_count": 5,
   "metadata": {},
   "outputs": [
    {
     "data": {
      "text/html": [
       "<div>\n",
       "<style scoped>\n",
       "    .dataframe tbody tr th:only-of-type {\n",
       "        vertical-align: middle;\n",
       "    }\n",
       "\n",
       "    .dataframe tbody tr th {\n",
       "        vertical-align: top;\n",
       "    }\n",
       "\n",
       "    .dataframe thead th {\n",
       "        text-align: right;\n",
       "    }\n",
       "</style>\n",
       "<table border=\"1\" class=\"dataframe\">\n",
       "  <thead>\n",
       "    <tr style=\"text-align: right;\">\n",
       "      <th></th>\n",
       "      <th>timestamp</th>\n",
       "      <th>temperature_f</th>\n",
       "      <th>dew_point_f</th>\n",
       "      <th>humidity_%</th>\n",
       "      <th>wind</th>\n",
       "      <th>wind_speed_mph</th>\n",
       "      <th>wind_gust_mph</th>\n",
       "      <th>pressure_in</th>\n",
       "      <th>precip_in</th>\n",
       "      <th>weather_condition</th>\n",
       "      <th>datetime</th>\n",
       "    </tr>\n",
       "  </thead>\n",
       "  <tbody>\n",
       "    <tr>\n",
       "      <th>13105</th>\n",
       "      <td>1716751800</td>\n",
       "      <td>72</td>\n",
       "      <td>65</td>\n",
       "      <td>78</td>\n",
       "      <td>ESE</td>\n",
       "      <td>8</td>\n",
       "      <td>0</td>\n",
       "      <td>29.89</td>\n",
       "      <td>0.0</td>\n",
       "      <td>Cloudy</td>\n",
       "      <td>2024-05-26 19:30:00</td>\n",
       "    </tr>\n",
       "    <tr>\n",
       "      <th>13106</th>\n",
       "      <td>1716753060</td>\n",
       "      <td>72</td>\n",
       "      <td>65</td>\n",
       "      <td>78</td>\n",
       "      <td>ESE</td>\n",
       "      <td>9</td>\n",
       "      <td>0</td>\n",
       "      <td>29.89</td>\n",
       "      <td>0.0</td>\n",
       "      <td>Cloudy</td>\n",
       "      <td>2024-05-26 19:51:00</td>\n",
       "    </tr>\n",
       "    <tr>\n",
       "      <th>13107</th>\n",
       "      <td>1716756660</td>\n",
       "      <td>70</td>\n",
       "      <td>65</td>\n",
       "      <td>84</td>\n",
       "      <td>SSE</td>\n",
       "      <td>7</td>\n",
       "      <td>0</td>\n",
       "      <td>29.90</td>\n",
       "      <td>0.0</td>\n",
       "      <td>Cloudy</td>\n",
       "      <td>2024-05-26 20:51:00</td>\n",
       "    </tr>\n",
       "    <tr>\n",
       "      <th>13108</th>\n",
       "      <td>1716760260</td>\n",
       "      <td>71</td>\n",
       "      <td>65</td>\n",
       "      <td>81</td>\n",
       "      <td>S</td>\n",
       "      <td>9</td>\n",
       "      <td>0</td>\n",
       "      <td>29.89</td>\n",
       "      <td>0.0</td>\n",
       "      <td>Cloudy</td>\n",
       "      <td>2024-05-26 21:51:00</td>\n",
       "    </tr>\n",
       "    <tr>\n",
       "      <th>13109</th>\n",
       "      <td>1716763860</td>\n",
       "      <td>68</td>\n",
       "      <td>64</td>\n",
       "      <td>87</td>\n",
       "      <td>SSE</td>\n",
       "      <td>13</td>\n",
       "      <td>0</td>\n",
       "      <td>29.90</td>\n",
       "      <td>0.0</td>\n",
       "      <td>Mist</td>\n",
       "      <td>2024-05-26 22:51:00</td>\n",
       "    </tr>\n",
       "  </tbody>\n",
       "</table>\n",
       "</div>"
      ],
      "text/plain": [
       "        timestamp  temperature_f  dew_point_f  humidity_% wind  \\\n",
       "13105  1716751800             72           65          78  ESE   \n",
       "13106  1716753060             72           65          78  ESE   \n",
       "13107  1716756660             70           65          84  SSE   \n",
       "13108  1716760260             71           65          81    S   \n",
       "13109  1716763860             68           64          87  SSE   \n",
       "\n",
       "       wind_speed_mph  wind_gust_mph  pressure_in  precip_in  \\\n",
       "13105               8              0        29.89        0.0   \n",
       "13106               9              0        29.89        0.0   \n",
       "13107               7              0        29.90        0.0   \n",
       "13108               9              0        29.89        0.0   \n",
       "13109              13              0        29.90        0.0   \n",
       "\n",
       "      weather_condition             datetime  \n",
       "13105            Cloudy  2024-05-26 19:30:00  \n",
       "13106            Cloudy  2024-05-26 19:51:00  \n",
       "13107            Cloudy  2024-05-26 20:51:00  \n",
       "13108            Cloudy  2024-05-26 21:51:00  \n",
       "13109              Mist  2024-05-26 22:51:00  "
      ]
     },
     "execution_count": 5,
     "metadata": {},
     "output_type": "execute_result"
    }
   ],
   "source": [
    "# Print the last five rows.\n",
    "df.tail(5)"
   ]
  },
  {
   "cell_type": "code",
   "execution_count": 6,
   "metadata": {},
   "outputs": [
    {
     "data": {
      "text/plain": [
       "timestamp            13104\n",
       "temperature_f           78\n",
       "dew_point_f             80\n",
       "humidity_%              88\n",
       "wind                    18\n",
       "wind_speed_mph          34\n",
       "wind_gust_mph           36\n",
       "pressure_in            168\n",
       "precip_in               14\n",
       "weather_condition       45\n",
       "datetime             13104\n",
       "dtype: int64"
      ]
     },
     "execution_count": 6,
     "metadata": {},
     "output_type": "execute_result"
    }
   ],
   "source": [
    "# Search for constant columns.\n",
    "df.nunique()"
   ]
  },
  {
   "cell_type": "code",
   "execution_count": 7,
   "metadata": {},
   "outputs": [
    {
     "data": {
      "text/plain": [
       "timestamp              int64\n",
       "temperature_f          int64\n",
       "dew_point_f            int64\n",
       "humidity_%             int64\n",
       "wind                  object\n",
       "wind_speed_mph         int64\n",
       "wind_gust_mph          int64\n",
       "pressure_in          float64\n",
       "precip_in            float64\n",
       "weather_condition     object\n",
       "datetime              object\n",
       "dtype: object"
      ]
     },
     "execution_count": 7,
     "metadata": {},
     "output_type": "execute_result"
    }
   ],
   "source": [
    "# List data types as determined by pandas.\n",
    "df.dtypes"
   ]
  },
  {
   "cell_type": "markdown",
   "metadata": {},
   "source": [
    "Three columns are shown to be of class \"object\", those being:\n",
    "- wind\n",
    "- weather_condition\n",
    "- datetime\n",
    "\n",
    "Should these be used in the model, they can be converted to int64 or float64 in the case of *\"wind\"* and *\"weather_condition\"*, and datetime in the case of *\"datetime\"*.\n",
    "\n",
    "It is recommended that all numerical values are converted to float64 for consistency."
   ]
  },
  {
   "cell_type": "code",
   "execution_count": 8,
   "metadata": {},
   "outputs": [],
   "source": [
    "# Change all data fields to either continuous (float64) types, or to datetime form.\n",
    "df[\"timestamp\"] = df[\"timestamp\"].astype(\"float64\")\n",
    "df[\"temperature_f\"] = df[\"temperature_f\"].astype(\"float64\")\n",
    "df[\"dew_point_f\"] = df[\"dew_point_f\"].astype(\"float64\")\n",
    "df[\"humidity_%\"] = df[\"humidity_%\"].astype(\"float64\")\n",
    "df[\"wind_speed_mph\"] = df[\"wind_speed_mph\"].astype(\"float64\")\n",
    "df[\"wind_gust_mph\"] = df[\"wind_gust_mph\"].astype(\"float64\")\n",
    "df[\"datetime\"] = pd.to_datetime(df[\"datetime\"])\n",
    "df[\"datetime\"] = df[\"datetime\"].map(dt.datetime.toordinal)"
   ]
  },
  {
   "cell_type": "code",
   "execution_count": 9,
   "metadata": {},
   "outputs": [
    {
     "data": {
      "text/plain": [
       "timestamp            float64\n",
       "temperature_f        float64\n",
       "dew_point_f          float64\n",
       "humidity_%           float64\n",
       "wind                  object\n",
       "wind_speed_mph       float64\n",
       "wind_gust_mph        float64\n",
       "pressure_in          float64\n",
       "precip_in            float64\n",
       "weather_condition     object\n",
       "datetime               int64\n",
       "dtype: object"
      ]
     },
     "execution_count": 9,
     "metadata": {},
     "output_type": "execute_result"
    }
   ],
   "source": [
    "# List the updated data types as determined by pandas.\n",
    "df.dtypes"
   ]
  },
  {
   "cell_type": "markdown",
   "metadata": {},
   "source": [
    "## Translating *\"weather_condition\"* to the Relevant Weather Code"
   ]
  },
  {
   "cell_type": "code",
   "execution_count": 10,
   "metadata": {},
   "outputs": [
    {
     "name": "stdout",
     "output_type": "stream",
     "text": [
      "List of unique values in column: ['Cloudy' 'Partly Cloudy' 'Mostly Cloudy' 'Fair' 'Light Rain'\n",
      " 'Mostly Cloudy / Windy' 'Rain / Windy' 'Heavy Rain / Windy'\n",
      " 'Light Rain / Windy' 'Cloudy / Windy' 'Wintry Mix / Windy'\n",
      " 'Partly Cloudy / Windy' 'Fair / Windy' 'Rain' 'Light Rain with Thunder'\n",
      " 'T-Storm' 'Wintry Mix' 'Light Drizzle' 'Fog' 'Haze' 'Light Snow'\n",
      " 'Light Snow and Sleet' 'Snow and Sleet' 'Snow' 'Light Snow / Windy'\n",
      " 'Light Drizzle / Windy' 'T-Storm / Windy' 'Heavy Rain' 'Drizzle and Fog'\n",
      " 'Thunder' 'Thunder in the Vicinity' 'Haze / Windy' 'Smoke / Windy'\n",
      " 'Smoke' 'Heavy T-Storm' 'Mist' 'Heavy T-Storm / Windy' 'Heavy Rain / Fog'\n",
      " 'Mist / Windy' 'Light Freezing Rain' 'Snow / Fog' 'Heavy Snow / Fog'\n",
      " 'Light Rain / Fog' 'Thunder and Hail / Fog' 'Fog / Windy']\n"
     ]
    }
   ],
   "source": [
    "# Investigate what unique values there are in the column, finding their length, and ordering them in a list.\n",
    "print(\"List of unique values in column:\", df[\"weather_condition\"].unique())"
   ]
  },
  {
   "cell_type": "code",
   "execution_count": 11,
   "metadata": {},
   "outputs": [],
   "source": [
    "weather_codes = {\n",
    "    \"Tornado\" : 0,\n",
    "    \"Tropical Storm\" : 1,\n",
    "    \"T-Storm\" : 1, # Alias.\n",
    "    \"Hurricane\" : 2,\n",
    "    \"Strong Storms\" : 3,\n",
    "    \"Thunderstorms\" : 4,\n",
    "    \"Thunder\" : 4, # Alias.\n",
    "    \"Thunder in the Vicinity\" : 4, # Alias.\n",
    "    \"Rain and Snow\" : 5, # Alias (removed forward slash (/)).\n",
    "    \"Rain and Sleet\" : 6, # Alias (removed forward slash (/).\n",
    "    \"Wintry Mix\" : 7,\n",
    "    \"Freezing Drizzle\" : 8,\n",
    "    \"Drizzle\" : 9,\n",
    "    \"Freezing Rain\" : 10,\n",
    "    \"Showers\" : 11,\n",
    "    \"Rain\" : 12,\n",
    "    \"Flurries\" : 13,\n",
    "    \"Snow Showers\" : 14,\n",
    "    \"Blowing Snow\" : 15, # Alias (removed forward slash (/)).\n",
    "    \"Drifting Snow\" : 15, # Alias (removed forward slash (/)).\n",
    "    \"Snow\" : 16,\n",
    "    \"Hail\" : 17,\n",
    "    \"Sleet\" : 18,\n",
    "    \"Blowing Dust\" : 19, # Alias (removed forward slash (/)).\n",
    "    \"Sandstorm\": 19, # Alias (removed forward slash (/)).\n",
    "    \"Foggy\" : 20,\n",
    "    \"Fog\" : 20, # Alias.\n",
    "    \"Haze\" : 21,\n",
    "    \"Smoke\" : 22,\n",
    "    \"Breezy\" : 23,\n",
    "    \"Windy\" : 24,\n",
    "    \"Frigid\" : 25, # Alias (removed forward slash (/)).\n",
    "    \"Ice Crystals\" : 25, # Alias (removed forward slash (/)).\n",
    "    \"Cloudy\" : 26,\n",
    "    \"Mostly Cloudy\" : 27, # Duplicates with 28.\n",
    "    \"Partly Cloudy\" : 29, # Duplicates with 30.\n",
    "    \"Clear\" : 31,\n",
    "    \"Sunny\" : 32,\n",
    "    \"Fair\" : 33, # Duplicates with 34.\n",
    "    \"Mixed Rain and Hail\" : 35,\n",
    "    \"Hot\" : 36,\n",
    "    \"Isolated Thunderstorms\" : 37,\n",
    "    \"Scattered Thunderstorms\" : 38, # Duplicates with 47.\n",
    "    \"Scattered Showers\" : 39, # Duplicates with 45.\n",
    "    \"Heavy Rain\" : 40,\n",
    "    \"Scattered Snow Showers\" : 41, # Duplicates with 46.\n",
    "    \"Heavy Snow\" : 42,\n",
    "    \"Blizzard\" : 43,\n",
    "    \"Not Available (NA)\" : 44,\n",
    "    \"Snow and Sleet\" : 50, # Not included in the original document.\n",
    "    \"Light Snow and Sleet\" : 51, # Not included in the original document.\n",
    "    \"Light Drizzle\" : 90, # Not included in the original document.\n",
    "    \"Heavy Drizzle\" : 91, # Not included in the original document.\n",
    "    \"Light Freezing Drizzle\" : 92, # Not included in the original document.\n",
    "    \"Heavy Freezing Drizzle\" : 93, # Not included in the original document.\n",
    "    \"Drizzle and Fog\" : 94, # Not included in the original document.\n",
    "    \"Heavy T-Storm\" : 100, # Not included in the original document.\n",
    "    \"Light Rain\" : 120, # Not included in the original document.\n",
    "    \"Heavy Rain\" : 121, # Not included in the original document.\n",
    "    \"Light Freezing Rain\" : 122, # Not included in the original document.\n",
    "    \"Heavy Freezing Rain\" : 123, # Not included in the original document.\n",
    "    \"Light Rain with Thunder\" : 124, # Not included in the original document.\n",
    "    \"Light Snow\" : 160, # Not included in the original document.\n",
    "    \"Heavy Snow\" : 161, # Not included in the original document.\n",
    "    \"Mist\" : 200, # Not included in the original document.\n",
    "    \"Thunder and Hail\" : 400 # Not included in the original document.\n",
    "}"
   ]
  },
  {
   "cell_type": "code",
   "execution_count": 12,
   "metadata": {},
   "outputs": [],
   "source": [
    "# Function to get weather codes and handle combined conditions.\n",
    "def get_weather_code(condition):\n",
    "    # Split the combined conditions on the forward slash (/).\n",
    "    conditions = condition.split(\" / \")\n",
    "    \n",
    "    # Look up codes for each part of the combined condition.\n",
    "    codes = [weather_codes.get(cond.strip(), None) for cond in conditions]\n",
    "    \n",
    "    # If any condition is not found, return None.\n",
    "    if None in codes:\n",
    "        return np.nan\n",
    "    \n",
    "    # Concatenate codes if there are multiple.\n",
    "    if len(codes) > 1:\n",
    "        # Concatenate the codes as strings and convert to float.\n",
    "        concatenated_code = \"\".join(map(str, codes))\n",
    "        return float(concatenated_code)\n",
    "    \n",
    "    # Return the single code as a float.\n",
    "    return float(codes[0])\n",
    "\n",
    "# Apply the function to the DataFrame.\n",
    "df[\"weather_code\"] = df[\"weather_condition\"].apply(get_weather_code)"
   ]
  },
  {
   "cell_type": "markdown",
   "metadata": {},
   "source": [
    "## Translating *\"wind\"* to the Relevant Custom Wind Code"
   ]
  },
  {
   "cell_type": "code",
   "execution_count": 13,
   "metadata": {},
   "outputs": [
    {
     "name": "stdout",
     "output_type": "stream",
     "text": [
      "List of unique values in column: ['S' 'SW' 'WSW' 'SSW' 'CALM' 'NW' 'VAR' 'SSE' 'NNW' 'WNW' 'W' 'ENE' 'E'\n",
      " 'N' 'NE' 'NNE' 'SE' 'ESE' nan]\n"
     ]
    }
   ],
   "source": [
    "# Investigate what unique values there are in the column, finding their length, and ordering them in a list.\n",
    "print(\"List of unique values in column:\", df[\"wind\"].unique())"
   ]
  },
  {
   "cell_type": "code",
   "execution_count": 14,
   "metadata": {},
   "outputs": [],
   "source": [
    "# Wind codes are assigned in clockwise order after \"CALM\" and \"VAR\".\n",
    "wind_codes = {\n",
    "    \"CALM\" : 0,\n",
    "    \"VAR\" : 1, # Variable.\n",
    "    \"N\" : 2,\n",
    "    \"NNE\" : 3,\n",
    "    \"NE\" : 4,\n",
    "    \"ENE\" : 5,\n",
    "    \"E\" : 6,\n",
    "    \"ESE\" : 7,\n",
    "    \"SE\" : 8,\n",
    "    \"SSE\" : 9,\n",
    "    \"S\" : 10,\n",
    "    \"SSW\" : 11,\n",
    "    \"SW\" : 12,\n",
    "    \"WSW\" : 13,\n",
    "    \"W\" : 14,\n",
    "    \"WNW\" : 15,\n",
    "    \"NW\" : 16,\n",
    "    \"NNW\" : 17\n",
    "}"
   ]
  },
  {
   "cell_type": "code",
   "execution_count": 15,
   "metadata": {},
   "outputs": [],
   "source": [
    "df[\"wind_code\"] = df[\"wind\"].map(wind_codes)"
   ]
  },
  {
   "cell_type": "code",
   "execution_count": 16,
   "metadata": {},
   "outputs": [],
   "source": [
    "# Saving the dataframe to a new .csv file.\n",
    "file_path = \"historical_weather_data_with_codes.csv\"\n",
    "\n",
    "# Save the dataframe as a .csv file.\n",
    "df.to_csv(file_path, index = False)"
   ]
  }
 ],
 "metadata": {
  "kernelspec": {
   "display_name": "comp47350py311",
   "language": "python",
   "name": "python3"
  },
  "language_info": {
   "codemirror_mode": {
    "name": "ipython",
    "version": 3
   },
   "file_extension": ".py",
   "mimetype": "text/x-python",
   "name": "python",
   "nbconvert_exporter": "python",
   "pygments_lexer": "ipython3",
   "version": "3.11.5"
  }
 },
 "nbformat": 4,
 "nbformat_minor": 2
}
